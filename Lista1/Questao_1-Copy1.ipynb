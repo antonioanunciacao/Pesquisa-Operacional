{
 "cells": [
  {
   "cell_type": "code",
   "execution_count": 1,
   "id": "known-college",
   "metadata": {},
   "outputs": [],
   "source": [
    "import sys, os\n",
    "import docplex.mp\n",
    "from docplex.mp.model import Model"
   ]
  },
  {
   "cell_type": "code",
   "execution_count": 2,
   "id": "authorized-things",
   "metadata": {},
   "outputs": [],
   "source": [
    "modelo = Model(name='exemplo com inteiro')"
   ]
  },
  {
   "cell_type": "code",
   "execution_count": 3,
   "id": "identical-australian",
   "metadata": {},
   "outputs": [],
   "source": [
    "X1 = modelo.integer_var()\n",
    "X2 = modelo.integer_var()"
   ]
  },
  {
   "cell_type": "code",
   "execution_count": 4,
   "id": "prostate-netherlands",
   "metadata": {},
   "outputs": [
    {
     "data": {
      "text/plain": [
       "docplex.mp.LinearConstraint[](x1+x2,LE,5)"
      ]
     },
     "execution_count": 4,
     "metadata": {},
     "output_type": "execute_result"
    }
   ],
   "source": [
    "# Restrições\n",
    "modelo.add_constraint(X1 >= 0)\n",
    "modelo.add_constraint(X2 >= 0)\n",
    "modelo.add_constraint(10*X1 + 7*X2 <= 40)\n",
    "modelo.add_constraint(X1 + X2 <= 5)"
   ]
  },
  {
   "cell_type": "code",
   "execution_count": 8,
   "id": "chubby-tissue",
   "metadata": {},
   "outputs": [],
   "source": [
    "# Função Objetiva\n",
    "modelo.maximize(17*X1 + 12*X2)"
   ]
  },
  {
   "cell_type": "code",
   "execution_count": 9,
   "id": "partial-bracket",
   "metadata": {},
   "outputs": [
    {
     "name": "stdout",
     "output_type": "stream",
     "text": [
      "Model: exemplo com inteiro\n",
      " - number of variables: 2\n",
      "   - binary=0, integer=2, continuous=0\n",
      " - number of constraints: 4\n",
      "   - linear=4\n",
      " - parameters: defaults\n",
      " - objective: maximize\n",
      " - problem type is: MILP\n"
     ]
    }
   ],
   "source": [
    "modelo.print_information()"
   ]
  },
  {
   "cell_type": "code",
   "execution_count": 16,
   "id": "double-specific",
   "metadata": {},
   "outputs": [
    {
     "name": "stdout",
     "output_type": "stream",
     "text": [
      "objective: 68\n",
      "  x1=4\n"
     ]
    }
   ],
   "source": [
    "otimizacao = modelo.solve()\n",
    "modelo.print_solution()"
   ]
  },
  {
   "cell_type": "code",
   "execution_count": 19,
   "id": "imported-possible",
   "metadata": {},
   "outputs": [],
   "source": [
    "pop = modelo.populate()"
   ]
  },
  {
   "cell_type": "code",
   "execution_count": 23,
   "id": "behavioral-infrared",
   "metadata": {},
   "outputs": [
    {
     "data": {
      "text/plain": [
       "17"
      ]
     },
     "execution_count": 23,
     "metadata": {},
     "output_type": "execute_result"
    }
   ],
   "source": [
    "pop.size"
   ]
  },
  {
   "cell_type": "code",
   "execution_count": 11,
   "id": "bibliographic-circulation",
   "metadata": {},
   "outputs": [
    {
     "name": "stdout",
     "output_type": "stream",
     "text": [
      "Version identifier: 20.1.0.0 | 2020-11-11 | 9bedb6d68\n",
      "CPXPARAM_Read_DataCheck                          1\n",
      "CPXPARAM_LPMethod                                4\n",
      "\n",
      "Root node processing (before b&c):\n",
      "  Real time             =    0.00 sec. (0.00 ticks)\n",
      "Parallel b&c, 4 threads:\n",
      "  Real time             =    0.00 sec. (0.00 ticks)\n",
      "  Sync time (average)   =    0.00 sec.\n",
      "  Wait time (average)   =    0.00 sec.\n",
      "                          ------------\n",
      "Total (root+branch&cut) =    0.00 sec. (0.00 ticks)\n"
     ]
    },
    {
     "data": {
      "text/plain": [
       "docplex.mp.solution.SolveSolution(obj=68,values={x1:4})"
      ]
     },
     "execution_count": 11,
     "metadata": {},
     "output_type": "execute_result"
    }
   ],
   "source": [
    "modelo.parameters.lpmethod = 4\n",
    "modelo.solve(url=None, key=None, log_output=True)"
   ]
  },
  {
   "cell_type": "code",
   "execution_count": 24,
   "id": "square-advice",
   "metadata": {},
   "outputs": [
    {
     "name": "stdout",
     "output_type": "stream",
     "text": [
      "Version identifier: 20.1.0.0 | 2020-11-11 | 9bedb6d68\n",
      "CPXPARAM_Read_DataCheck                          1\n",
      "Found incumbent of value 0.000000 after 0.00 sec. (0.00 ticks)\n",
      "Tried aggregator 1 time.\n",
      "Reduced MIP has 3 rows, 3 columns, and 9 nonzeros.\n",
      "Reduced MIP has 0 binaries, 3 generals, 0 SOSs, and 0 indicators.\n",
      "Presolve time = 0.02 sec. (0.00 ticks)\n",
      "Tried aggregator 1 time.\n",
      "Reduced MIP has 3 rows, 3 columns, and 9 nonzeros.\n",
      "Reduced MIP has 0 binaries, 3 generals, 0 SOSs, and 0 indicators.\n",
      "Presolve time = 0.00 sec. (0.00 ticks)\n",
      "MIP emphasis: balance optimality and feasibility.\n",
      "MIP search method: dynamic search.\n",
      "Parallel mode: deterministic, using up to 4 threads.\n",
      "Root relaxation solution time = 0.00 sec. (0.00 ticks)\n",
      "\n",
      "        Nodes                                         Cuts/\n",
      "   Node  Left     Objective  IInf  Best Integer    Best Bound    ItCnt     Gap\n",
      "\n",
      "*     0+    0                            0.0000       24.0000              --- \n",
      "*     0+    0                           10.0000       24.0000           140.00%\n",
      "      0     0       11.4286     2       10.0000       11.4286        2   14.29%\n",
      "*     0+    0                           11.0000       11.4286             3.90%\n",
      "      0     0        cutoff             11.0000       11.4286        2    3.90%\n",
      "Elapsed time = 0.09 sec. (0.03 ticks, tree = 0.01 MB, solutions = 3)\n",
      "\n",
      "Root node processing (before b&c):\n",
      "  Real time             =    0.11 sec. (0.03 ticks)\n",
      "Parallel b&c, 4 threads:\n",
      "  Real time             =    0.00 sec. (0.00 ticks)\n",
      "  Sync time (average)   =    0.00 sec.\n",
      "  Wait time (average)   =    0.00 sec.\n",
      "                          ------------\n",
      "Total (root+branch&cut) =    0.11 sec. (0.03 ticks)\n"
     ]
    },
    {
     "data": {
      "text/plain": [
       "docplex.mp.solution.SolveSolution(obj=11,values={x:1,z:5})"
      ]
     },
     "execution_count": 24,
     "metadata": {},
     "output_type": "execute_result"
    }
   ],
   "source": [
    "bbm = Model(name='b&b')\n",
    "x, y, z = bbm.integer_var_list(3, name=['x', 'y', 'z'])\n",
    "bbm.maximize(x + y + 2*z)\n",
    "bbm.add_constraint(7*x + 2*y + 3*z <= 36)\n",
    "bbm.add_constraint(5*x + 4*y + 7*z <= 42)\n",
    "bbm.add_constraint(2*x + 3*y + 5*z <= 28)\n",
    "bbm.solve(log_output=True)"
   ]
  },
  {
   "cell_type": "code",
   "execution_count": null,
   "id": "uniform-slave",
   "metadata": {},
   "outputs": [],
   "source": []
  }
 ],
 "metadata": {
  "kernelspec": {
   "display_name": "Python 3",
   "language": "python",
   "name": "python3"
  },
  "language_info": {
   "codemirror_mode": {
    "name": "ipython",
    "version": 3
   },
   "file_extension": ".py",
   "mimetype": "text/x-python",
   "name": "python",
   "nbconvert_exporter": "python",
   "pygments_lexer": "ipython3",
   "version": "3.7.9"
  }
 },
 "nbformat": 4,
 "nbformat_minor": 5
}
