{
 "cells": [
  {
   "cell_type": "code",
   "execution_count": 1,
   "id": "known-college",
   "metadata": {},
   "outputs": [],
   "source": [
    "import sys, os\n",
    "import docplex.mp\n",
    "from docplex.mp.model import Model"
   ]
  },
  {
   "cell_type": "code",
   "execution_count": 2,
   "id": "deadly-festival",
   "metadata": {},
   "outputs": [],
   "source": [
    "path = 'D:\\SISTEMAS\\SEMESTRE-2020-2\\Pesquisa Operacional\\Lista1'\n",
    "os.chdir(path)"
   ]
  },
  {
   "cell_type": "code",
   "execution_count": 2,
   "id": "authorized-things",
   "metadata": {},
   "outputs": [],
   "source": [
    "modelo = Model(name='Lista_1_Questao_1')"
   ]
  },
  {
   "cell_type": "code",
   "execution_count": 3,
   "id": "identical-australian",
   "metadata": {},
   "outputs": [],
   "source": [
    "A1 = modelo.integer_var(name='B717')\n",
    "A2 = modelo.integer_var(name='B737')\n",
    "A3 = modelo.integer_var(name='MD11')"
   ]
  },
  {
   "cell_type": "code",
   "execution_count": 4,
   "id": "prostate-netherlands",
   "metadata": {},
   "outputs": [
    {
     "data": {
      "text/plain": [
       "docplex.mp.LinearConstraint[](MD11,LE,5)"
      ]
     },
     "execution_count": 4,
     "metadata": {},
     "output_type": "execute_result"
    }
   ],
   "source": [
    "# Restrições\n",
    "modelo.add_constraint(A1 >= 15)\n",
    "modelo.add_constraint(A2 >= 10)\n",
    "modelo.add_constraint(A3 >= 0)\n",
    "modelo.add_constraint(5.1*A1 + 3.6*A2 + 6.8*A3 <= 220)\n",
    "modelo.add_constraint(A1 + 3/4*A2 + 5/3*A3 <= 40)\n",
    "modelo.add_constraint(A1 <= 20)\n",
    "modelo.add_constraint(A2 <= 15)\n",
    "modelo.add_constraint(A3 <= 5)"
   ]
  },
  {
   "cell_type": "code",
   "execution_count": 5,
   "id": "chubby-tissue",
   "metadata": {},
   "outputs": [],
   "source": [
    "# Função Objetiva\n",
    "modelo.maximize((330-5.1)*A1 + (300-3.6)*A2 + (420-6.8)*A3)"
   ]
  },
  {
   "cell_type": "code",
   "execution_count": 6,
   "id": "partial-bracket",
   "metadata": {},
   "outputs": [
    {
     "name": "stdout",
     "output_type": "stream",
     "text": [
      "Model: Lista_1_Questao_1\n",
      " - number of variables: 3\n",
      "   - binary=0, integer=3, continuous=0\n",
      " - number of constraints: 8\n",
      "   - linear=8\n",
      " - parameters: defaults\n",
      " - objective: maximize\n",
      " - problem type is: MILP\n"
     ]
    }
   ],
   "source": [
    "modelo.print_information()"
   ]
  },
  {
   "cell_type": "code",
   "execution_count": 7,
   "id": "double-specific",
   "metadata": {},
   "outputs": [
    {
     "name": "stdout",
     "output_type": "stream",
     "text": [
      "objective: 13010.000\n",
      "  B717=20\n",
      "  B737=15\n",
      "  MD11=5\n"
     ]
    }
   ],
   "source": [
    "otimizacao = modelo.solve()\n",
    "modelo.print_solution()"
   ]
  },
  {
   "cell_type": "code",
   "execution_count": 8,
   "id": "bibliographic-circulation",
   "metadata": {},
   "outputs": [
    {
     "name": "stdout",
     "output_type": "stream",
     "text": [
      "Version identifier: 20.1.0.0 | 2020-11-11 | 9bedb6d68\n",
      "CPXPARAM_Read_DataCheck                          1\n",
      "CPXPARAM_LPMethod                                4\n",
      "\n",
      "Root node processing (before b&c):\n",
      "  Real time             =    0.00 sec. (0.00 ticks)\n",
      "Parallel b&c, 4 threads:\n",
      "  Real time             =    0.00 sec. (0.00 ticks)\n",
      "  Sync time (average)   =    0.00 sec.\n",
      "  Wait time (average)   =    0.00 sec.\n",
      "                          ------------\n",
      "Total (root+branch&cut) =    0.00 sec. (0.00 ticks)\n"
     ]
    },
    {
     "data": {
      "text/plain": [
       "docplex.mp.solution.SolveSolution(obj=13010,values={B717:20,B737:15,MD11.."
      ]
     },
     "execution_count": 8,
     "metadata": {},
     "output_type": "execute_result"
    }
   ],
   "source": [
    "modelo.parameters.lpmethod = 4\n",
    "modelo.solve(url=None, key=None, log_output=True)"
   ]
  },
  {
   "cell_type": "code",
   "execution_count": 9,
   "id": "sufficient-karen",
   "metadata": {},
   "outputs": [
    {
     "ename": "SyntaxError",
     "evalue": "invalid syntax (<ipython-input-9-e7ca25f43e2e>, line 1)",
     "output_type": "error",
     "traceback": [
      "\u001b[1;36m  File \u001b[1;32m\"<ipython-input-9-e7ca25f43e2e>\"\u001b[1;36m, line \u001b[1;32m1\u001b[0m\n\u001b[1;33m    print((330-5.1)*A1 + (300-3.6)*A2 + (420-6.8)*A3))\u001b[0m\n\u001b[1;37m                                                     ^\u001b[0m\n\u001b[1;31mSyntaxError\u001b[0m\u001b[1;31m:\u001b[0m invalid syntax\n"
     ]
    }
   ],
   "source": [
    "print((330-5.1)*A1 + (300-3.6)*A2 + (420-6.8)*A3))"
   ]
  },
  {
   "cell_type": "code",
   "execution_count": null,
   "id": "comparable-blond",
   "metadata": {},
   "outputs": [],
   "source": [
    "print('(330-5.1)*A1 + (300-3.6)*A2 + (420-6.8)*A3)')"
   ]
  },
  {
   "cell_type": "code",
   "execution_count": null,
   "id": "affiliated-strategy",
   "metadata": {},
   "outputs": [],
   "source": [
    "print(330-5.1, 300-3.6, 420-6.8)"
   ]
  },
  {
   "cell_type": "code",
   "execution_count": null,
   "id": "formed-gateway",
   "metadata": {},
   "outputs": [],
   "source": [
    "A1"
   ]
  },
  {
   "cell_type": "code",
   "execution_count": null,
   "id": "direct-arthur",
   "metadata": {},
   "outputs": [],
   "source": [
    "A1.information()"
   ]
  },
  {
   "cell_type": "code",
   "execution_count": null,
   "id": "returning-desktop",
   "metadata": {},
   "outputs": [],
   "source": [
    "A1.print_information()"
   ]
  },
  {
   "cell_type": "code",
   "execution_count": null,
   "id": "established-possible",
   "metadata": {},
   "outputs": [],
   "source": []
  }
 ],
 "metadata": {
  "kernelspec": {
   "display_name": "Python 3",
   "language": "python",
   "name": "python3"
  },
  "language_info": {
   "codemirror_mode": {
    "name": "ipython",
    "version": 3
   },
   "file_extension": ".py",
   "mimetype": "text/x-python",
   "name": "python",
   "nbconvert_exporter": "python",
   "pygments_lexer": "ipython3",
   "version": "3.7.9"
  }
 },
 "nbformat": 4,
 "nbformat_minor": 5
}
