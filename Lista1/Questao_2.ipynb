{
 "cells": [
  {
   "cell_type": "code",
   "execution_count": 1,
   "id": "amber-bernard",
   "metadata": {},
   "outputs": [],
   "source": [
    "import sys, os\n",
    "import docplex.mp\n",
    "from docplex.mp.model import Model\n",
    "\n",
    "path = 'D:\\SISTEMAS\\SEMESTRE-2020-2\\Pesquisa Operacional\\Lista1'\n",
    "os.chdir(path)"
   ]
  },
  {
   "cell_type": "code",
   "execution_count": 2,
   "id": "effective-anchor",
   "metadata": {},
   "outputs": [],
   "source": [
    "modelo = Model(name='Lista_1_Questao_2')"
   ]
  },
  {
   "cell_type": "code",
   "execution_count": 3,
   "id": "stable-washington",
   "metadata": {},
   "outputs": [],
   "source": [
    "Q1 = m.continuous_var(name='Quantidade do Produto 1')\n",
    "Q2 = m.continuous_var(name='Quantidade do Produto 2')"
   ]
  },
  {
   "cell_type": "code",
   "execution_count": 4,
   "id": "applied-carolina",
   "metadata": {},
   "outputs": [],
   "source": [
    "Q1 = modelo.continuous_var(name='Quantidade do Produto 1')\n",
    "Q2 = modelo.continuous_var(name='Quantidade do Produto 2')"
   ]
  },
  {
   "cell_type": "code",
   "execution_count": 5,
   "id": "incident-debate",
   "metadata": {},
   "outputs": [],
   "source": [
    "# Restrições\n",
    "modelo.add_constraint(Q1 >= 0)\n",
    "modelo.add_constraint(Q2 >= 0)\n",
    "modelo.add_constraint(2*Q1 + 2*Q2 <= 160)\n",
    "modelo.add_constraint(1*Q1 + 2*Q2 <= 120)\n",
    "modelo.add_constraint(4*Q1 + 2*Q2 <= 280)"
   ]
  },
  {
   "cell_type": "code",
   "execution_count": 6,
   "id": "varying-modification",
   "metadata": {},
   "outputs": [],
   "source": [
    "# Função Objetiva\n",
    "modelo.maximize(1*Q1 + 1.5*Q2)"
   ]
  },
  {
   "cell_type": "code",
   "execution_count": 7,
   "id": "national-anniversary",
   "metadata": {},
   "outputs": [],
   "source": [
    "modelo.print_information()"
   ]
  },
  {
   "cell_type": "code",
   "execution_count": 8,
   "id": "collect-investigator",
   "metadata": {},
   "outputs": [],
   "source": [
    "otimizacao = modelo.solve()\n",
    "modelo.print_solution()"
   ]
  },
  {
   "cell_type": "code",
   "execution_count": 9,
   "id": "verified-republican",
   "metadata": {},
   "outputs": [],
   "source": [
    "modelo.parameters.lpmethod = 4\n",
    "modelo.solve(url=None, key=None, log_output=True)"
   ]
  }
 ],
 "metadata": {
  "kernelspec": {
   "display_name": "Python 3",
   "language": "python",
   "name": "python3"
  },
  "language_info": {
   "codemirror_mode": {
    "name": "ipython",
    "version": 3
   },
   "file_extension": ".py",
   "mimetype": "text/x-python",
   "name": "python",
   "nbconvert_exporter": "python",
   "pygments_lexer": "ipython3",
   "version": "3.7.9"
  }
 },
 "nbformat": 4,
 "nbformat_minor": 5
}
