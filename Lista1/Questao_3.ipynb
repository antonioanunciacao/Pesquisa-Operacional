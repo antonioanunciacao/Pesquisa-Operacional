{
 "cells": [
  {
   "cell_type": "code",
   "execution_count": 1,
   "id": "japanese-quebec",
   "metadata": {},
   "outputs": [],
   "source": [
    "%notebook \"D:\\SISTEMAS\\SEMESTRE-2020-2\\Pesquisa Operacional\\Lista1\\Questao_3.ipynb\" "
   ]
  },
  {
   "cell_type": "code",
   "execution_count": 2,
   "id": "charged-leader",
   "metadata": {},
   "outputs": [],
   "source": [
    "import sys, os\n",
    "import docplex.mp\n",
    "from docplex.mp.model import Model\n",
    "\n",
    "path = 'D:\\SISTEMAS\\SEMESTRE-2020-2\\Pesquisa Operacional\\Lista1'\n",
    "os.chdir(path)"
   ]
  },
  {
   "cell_type": "code",
   "execution_count": 3,
   "id": "million-appliance",
   "metadata": {},
   "outputs": [],
   "source": [
    "modelo = Model(name='Lista_1_Questao_3')"
   ]
  },
  {
   "cell_type": "code",
   "execution_count": 4,
   "id": "individual-metallic",
   "metadata": {},
   "outputs": [],
   "source": [
    "%notebook \"D:\\SISTEMAS\\SEMESTRE-2020-2\\Pesquisa Operacional\\Lista1\\Questao_3.ipynb\" "
   ]
  },
  {
   "cell_type": "code",
   "execution_count": 5,
   "id": "transparent-double",
   "metadata": {},
   "outputs": [],
   "source": [
    "trigo = modelo.continuous_var(name='Produção em kg de trigo')\n",
    "arroz = modelo.continuous_var(name='Produção em kg de arroz')\n",
    "milho = modelo.continuous_var(name='Produção em kg de milho')"
   ]
  },
  {
   "cell_type": "code",
   "execution_count": 6,
   "id": "automatic-brother",
   "metadata": {},
   "outputs": [],
   "source": [
    "# Função Objetiva\n",
    "modelo.maximize(10.8*trigo + 4.2*arroz + 2.03*milho)"
   ]
  },
  {
   "cell_type": "code",
   "execution_count": 7,
   "id": "impressed-watts",
   "metadata": {},
   "outputs": [],
   "source": [
    "# Restrições\n",
    "modelo.add_constraint(trigo >= 0)\n",
    "modelo.add_constraint(arroz >= 0)\n",
    "modelo.add_constraint(milho >= 0)\n",
    "modelo.add_constraint(trigo/0.2 + arroz/0.3 + milho/0.4 <= 200000)\n",
    "modelo.add_constraint(trigo + arroz + milho <= 60000)\n",
    "modelo.add_constraint(trigo/0.2 >= 400)\n",
    "modelo.add_constraint(arroz/0.3 >= 800)\n",
    "modelo.add_constraint(milho/0.4 >= 10000)"
   ]
  },
  {
   "cell_type": "code",
   "execution_count": 8,
   "id": "extended-capitol",
   "metadata": {},
   "outputs": [],
   "source": [
    "modelo.print_information()"
   ]
  },
  {
   "cell_type": "code",
   "execution_count": 9,
   "id": "specialized-california",
   "metadata": {},
   "outputs": [],
   "source": [
    "otimizacao = modelo.solve()\n",
    "modelo.print_solution()"
   ]
  },
  {
   "cell_type": "code",
   "execution_count": 10,
   "id": "least-mobility",
   "metadata": {},
   "outputs": [],
   "source": [
    "modelo.parameters.lpmethod = 4\n",
    "modelo.solve(url=None, key=None, log_output=True)"
   ]
  }
 ],
 "metadata": {
  "kernelspec": {
   "display_name": "Python 3",
   "language": "python",
   "name": "python3"
  },
  "language_info": {
   "codemirror_mode": {
    "name": "ipython",
    "version": 3
   },
   "file_extension": ".py",
   "mimetype": "text/x-python",
   "name": "python",
   "nbconvert_exporter": "python",
   "pygments_lexer": "ipython3",
   "version": "3.7.9"
  }
 },
 "nbformat": 4,
 "nbformat_minor": 5
}
