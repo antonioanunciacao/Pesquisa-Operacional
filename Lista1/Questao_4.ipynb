{
 "cells": [
  {
   "cell_type": "code",
   "execution_count": 1,
   "id": "cutting-experiment",
   "metadata": {},
   "outputs": [],
   "source": [
    "import sys, os\n",
    "import docplex.mp\n",
    "from docplex.mp.model import Model\n",
    "\n",
    "path = 'D:\\SISTEMAS\\SEMESTRE-2020-2\\Pesquisa Operacional\\Lista1'\n",
    "os.chdir(path)"
   ]
  },
  {
   "cell_type": "code",
   "execution_count": 2,
   "id": "wicked-ideal",
   "metadata": {},
   "outputs": [],
   "source": [
    "modelo = Model(name='Lista_1_Questao_4')"
   ]
  },
  {
   "cell_type": "code",
   "execution_count": 3,
   "id": "hairy-parish",
   "metadata": {},
   "outputs": [],
   "source": [
    "X1 = modelo.continuous_var(name='X1')\n",
    "X2 = modelo.continuous_var(name='X2')"
   ]
  },
  {
   "cell_type": "code",
   "execution_count": 4,
   "id": "nominated-victorian",
   "metadata": {},
   "outputs": [],
   "source": [
    "# Função Objetiva\n",
    "modelo.maximize(0.5*X1 + 2*X2)"
   ]
  },
  {
   "cell_type": "code",
   "execution_count": 5,
   "id": "worldwide-macedonia",
   "metadata": {},
   "outputs": [],
   "source": [
    "# Restrições\n",
    "modelo.add_constraint(X1 >= 0 and X1 <= 20)\n",
    "modelo.add_constraint(X2 >= 0 and X2 <= 45)\n",
    "modelo.add_constraint(2*X1 + X2 <= 50)"
   ]
  },
  {
   "cell_type": "code",
   "execution_count": 6,
   "id": "hawaiian-introduction",
   "metadata": {},
   "outputs": [],
   "source": [
    "# Restrições\n",
    "modelo.add_constraint(X1 >= 0)\n",
    "modelo.add_constraint(X2 >= 0)\n",
    "modelo.add_constraint(X1 <= 20)\n",
    "modelo.add_constraint(X2 <= 45)\n",
    "modelo.add_constraint(2*X1 + X2 <= 50)"
   ]
  },
  {
   "cell_type": "code",
   "execution_count": 7,
   "id": "continent-documentation",
   "metadata": {},
   "outputs": [],
   "source": [
    "modelo.print_information()"
   ]
  },
  {
   "cell_type": "code",
   "execution_count": 8,
   "id": "russian-shuttle",
   "metadata": {},
   "outputs": [],
   "source": [
    "otimizacao = modelo.solve()\n",
    "modelo.print_solution()"
   ]
  },
  {
   "cell_type": "code",
   "execution_count": 9,
   "id": "intimate-compatibility",
   "metadata": {},
   "outputs": [],
   "source": [
    "modelo.parameters.lpmethod = 4\n",
    "modelo.solve(url=None, key=None, log_output=True)"
   ]
  },
  {
   "cell_type": "code",
   "execution_count": 10,
   "id": "hawaiian-prophet",
   "metadata": {},
   "outputs": [],
   "source": [
    "modelo.parameters.lpmethod = 5\n",
    "modelo.solve(url=None, key=None, log_output=True)"
   ]
  }
 ],
 "metadata": {
  "kernelspec": {
   "display_name": "Python 3",
   "language": "python",
   "name": "python3"
  },
  "language_info": {
   "codemirror_mode": {
    "name": "ipython",
    "version": 3
   },
   "file_extension": ".py",
   "mimetype": "text/x-python",
   "name": "python",
   "nbconvert_exporter": "python",
   "pygments_lexer": "ipython3",
   "version": "3.7.9"
  }
 },
 "nbformat": 4,
 "nbformat_minor": 5
}
