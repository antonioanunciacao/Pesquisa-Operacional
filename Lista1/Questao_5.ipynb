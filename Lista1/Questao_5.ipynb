{
 "cells": [
  {
   "cell_type": "code",
   "execution_count": 1,
   "id": "gorgeous-failure",
   "metadata": {},
   "outputs": [],
   "source": [
    "%notebook \"D:\\SISTEMAS\\SEMESTRE-2020-2\\Pesquisa Operacional\\Lista1\\Questao_5.ipynb\" "
   ]
  },
  {
   "cell_type": "code",
   "execution_count": 2,
   "id": "municipal-infrared",
   "metadata": {},
   "outputs": [],
   "source": [
    "import sys, os\n",
    "import docplex.mp\n",
    "from docplex.mp.model import Model\n",
    "\n",
    "path = 'D:\\SISTEMAS\\SEMESTRE-2020-2\\Pesquisa Operacional\\Lista1'\n",
    "os.chdir(path)"
   ]
  }
 ],
 "metadata": {
  "kernelspec": {
   "display_name": "Python 3",
   "language": "python",
   "name": "python3"
  },
  "language_info": {
   "codemirror_mode": {
    "name": "ipython",
    "version": 3
   },
   "file_extension": ".py",
   "mimetype": "text/x-python",
   "name": "python",
   "nbconvert_exporter": "python",
   "pygments_lexer": "ipython3",
   "version": "3.7.9"
  }
 },
 "nbformat": 4,
 "nbformat_minor": 5
}
