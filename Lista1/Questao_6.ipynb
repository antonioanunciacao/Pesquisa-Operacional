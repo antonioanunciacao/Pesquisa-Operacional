{
 "cells": [
  {
   "cell_type": "code",
   "execution_count": 1,
   "id": "adjusted-alcohol",
   "metadata": {},
   "outputs": [],
   "source": [
    "import sys, os\n",
    "import docplex.mp\n",
    "from docplex.mp.model import Model\n",
    "\n",
    "path = 'D:\\SISTEMAS\\SEMESTRE-2020-2\\Pesquisa Operacional\\Lista1'\n",
    "os.chdir(path)"
   ]
  },
  {
   "cell_type": "code",
   "execution_count": 2,
   "id": "straight-malta",
   "metadata": {},
   "outputs": [],
   "source": [
    "modelo = Model(name='Lista_1_Questao_6')"
   ]
  },
  {
   "cell_type": "code",
   "execution_count": 3,
   "id": "juvenile-fireplace",
   "metadata": {},
   "outputs": [],
   "source": [
    "X1 = modelo.continuous_var(name='X1')\n",
    "X2 = modelo.continuous_var(name='X2')"
   ]
  },
  {
   "cell_type": "code",
   "execution_count": 4,
   "id": "excess-secondary",
   "metadata": {},
   "outputs": [],
   "source": [
    "# Função Objetiva\n",
    "modelo.minimize(4*X1 + X2)"
   ]
  },
  {
   "cell_type": "code",
   "execution_count": 5,
   "id": "typical-government",
   "metadata": {},
   "outputs": [],
   "source": [
    "# Restrições\n",
    "modelo.add_constraint(X1 >= 0)\n",
    "modelo.add_constraint(X2 >= 0)\n",
    "modelo.add_constraint(3*X1 + X2 <= 3)\n",
    "modelo.add_constraint(3*X1 + X2 >= 3)\n",
    "modelo.add_constraint(4*X1 + 3*X2 >= 6)\n",
    "modelo.add_constraint(X1 + 2*X2 <= 4)"
   ]
  },
  {
   "cell_type": "code",
   "execution_count": 6,
   "id": "decimal-peripheral",
   "metadata": {},
   "outputs": [],
   "source": [
    "modelo.print_information()"
   ]
  },
  {
   "cell_type": "code",
   "execution_count": 7,
   "id": "geological-satisfaction",
   "metadata": {},
   "outputs": [],
   "source": [
    "otimizacao = modelo.solve()\n",
    "modelo.print_solution()"
   ]
  },
  {
   "cell_type": "code",
   "execution_count": 8,
   "id": "bibliographic-grocery",
   "metadata": {},
   "outputs": [],
   "source": [
    "modelo.parameters.lpmethod = 4\n",
    "modelo.solve(url=None, key=None, log_output=True)"
   ]
  }
 ],
 "metadata": {},
 "nbformat": 4,
 "nbformat_minor": 5
}
