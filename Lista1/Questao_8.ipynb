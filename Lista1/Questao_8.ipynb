{
 "cells": [
  {
   "cell_type": "code",
   "execution_count": 1,
   "id": "retained-hospital",
   "metadata": {},
   "outputs": [],
   "source": [
    "import sys, os\n",
    "import docplex.mp\n",
    "from docplex.mp.model import Model\n",
    "\n",
    "path = 'D:\\SISTEMAS\\SEMESTRE-2020-2\\Pesquisa Operacional\\Lista1'\n",
    "os.chdir(path)"
   ]
  },
  {
   "cell_type": "code",
   "execution_count": 2,
   "id": "british-physiology",
   "metadata": {},
   "outputs": [],
   "source": [
    "modelo = Model(name='Lista_1_Questao_8')"
   ]
  },
  {
   "cell_type": "code",
   "execution_count": 3,
   "id": "liquid-badge",
   "metadata": {},
   "outputs": [],
   "source": [
    "X1 = modelo.continuous_var(name='X1')\n",
    "X2 = modelo.continuous_var(name='X2')"
   ]
  },
  {
   "cell_type": "code",
   "execution_count": 4,
   "id": "ordered-webcam",
   "metadata": {},
   "outputs": [],
   "source": [
    "# Função Objetiva\n",
    "modelo.minimize(-4*X1 - 1*X2)"
   ]
  },
  {
   "cell_type": "code",
   "execution_count": 5,
   "id": "elect-diagram",
   "metadata": {},
   "outputs": [],
   "source": [
    "# Função Objetiva\n",
    "modelo.minimize(4*X1 + 1*X2)"
   ]
  },
  {
   "cell_type": "code",
   "execution_count": 6,
   "id": "injured-identification",
   "metadata": {},
   "outputs": [],
   "source": [
    "# Restrições\n",
    "modelo.add_constraint(X1 >= 0)\n",
    "modelo.add_constraint(X2 >= 0)\n",
    "modelo.add_constraint(-X1 + X2 >= 2)\n",
    "modelo.add_constraint(X1 + X2 <= 8)"
   ]
  },
  {
   "cell_type": "code",
   "execution_count": 7,
   "id": "stock-education",
   "metadata": {},
   "outputs": [],
   "source": [
    "modelo.print_information()"
   ]
  },
  {
   "cell_type": "code",
   "execution_count": 8,
   "id": "piano-fleece",
   "metadata": {},
   "outputs": [],
   "source": [
    "otimizacao = modelo.solve()\n",
    "modelo.print_solution()"
   ]
  },
  {
   "cell_type": "code",
   "execution_count": 9,
   "id": "interstate-juice",
   "metadata": {},
   "outputs": [],
   "source": [
    "modelo.parameters.lpmethod = 4\n",
    "modelo.solve(url=None, key=None, log_output=True)"
   ]
  }
 ],
 "metadata": {},
 "nbformat": 4,
 "nbformat_minor": 5
}
