{
 "cells": [
  {
   "cell_type": "code",
   "execution_count": 1,
   "id": "acting-adult",
   "metadata": {},
   "outputs": [],
   "source": [
    "import sys, os\n",
    "import docplex.mp\n",
    "from docplex.mp.model import Model\n",
    "\n",
    "path = 'D:\\SISTEMAS\\SEMESTRE-2020-2\\Pesquisa Operacional\\Lista1'\n",
    "os.chdir(path)"
   ]
  },
  {
   "cell_type": "code",
   "execution_count": 2,
   "id": "every-touch",
   "metadata": {},
   "outputs": [],
   "source": [
    "modelo = Model(name='Lista_1_Questao_9')"
   ]
  },
  {
   "cell_type": "code",
   "execution_count": 3,
   "id": "spiritual-horizon",
   "metadata": {},
   "outputs": [],
   "source": [
    "X1 = modelo.continuous_var(name='X1')\n",
    "X2 = modelo.continuous_var(name='X2')"
   ]
  },
  {
   "cell_type": "code",
   "execution_count": 4,
   "id": "increased-dictionary",
   "metadata": {},
   "outputs": [],
   "source": [
    "# Função Objetiva\n",
    "modelo.maximize(5*X1 + 4*X2)"
   ]
  },
  {
   "cell_type": "code",
   "execution_count": 5,
   "id": "rocky-computer",
   "metadata": {},
   "outputs": [],
   "source": [
    "# Restrições\n",
    "modelo.add_constraint(X1 >= 0)\n",
    "modelo.add_constraint(X2 >= 0)\n",
    "modelo.add_constraint(+6*X1 + 4*X2 <= 24)\n",
    "modelo.add_constraint(+1*X1 + 2*X2 <= 6)\n",
    "modelo.add_constraint(-1*X1 + 1*X2 <= 1)\n",
    "modelo.add_constraint(X2 <= 2)"
   ]
  },
  {
   "cell_type": "code",
   "execution_count": 6,
   "id": "instructional-canvas",
   "metadata": {},
   "outputs": [],
   "source": [
    "modelo.print_information()"
   ]
  },
  {
   "cell_type": "code",
   "execution_count": 7,
   "id": "resistant-trunk",
   "metadata": {},
   "outputs": [],
   "source": [
    "otimizacao = modelo.solve()\n",
    "modelo.print_solution()"
   ]
  },
  {
   "cell_type": "code",
   "execution_count": 8,
   "id": "speaking-differential",
   "metadata": {},
   "outputs": [],
   "source": [
    "modelo.parameters.lpmethod = 4\n",
    "modelo.solve(url=None, key=None, log_output=True)"
   ]
  }
 ],
 "metadata": {},
 "nbformat": 4,
 "nbformat_minor": 5
}
